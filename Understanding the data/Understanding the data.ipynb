{
 "cells": [
  {
   "cell_type": "markdown",
   "id": "58b36086-18d9-4797-8ea6-24dfc7a0ef7a",
   "metadata": {},
   "source": [
    "## How does the dataset look like?"
   ]
  },
  {
   "cell_type": "code",
   "execution_count": 1,
   "id": "30eec680-16c6-4fa8-a646-e57474f1c1dd",
   "metadata": {},
   "outputs": [
    {
     "data": {
      "text/html": [
       "<div>\n",
       "<style scoped>\n",
       "    .dataframe tbody tr th:only-of-type {\n",
       "        vertical-align: middle;\n",
       "    }\n",
       "\n",
       "    .dataframe tbody tr th {\n",
       "        vertical-align: top;\n",
       "    }\n",
       "\n",
       "    .dataframe thead th {\n",
       "        text-align: right;\n",
       "    }\n",
       "</style>\n",
       "<table border=\"1\" class=\"dataframe\">\n",
       "  <thead>\n",
       "    <tr style=\"text-align: right;\">\n",
       "      <th></th>\n",
       "      <th>index</th>\n",
       "      <th>id</th>\n",
       "      <th>title</th>\n",
       "      <th>type</th>\n",
       "      <th>description</th>\n",
       "      <th>release_year</th>\n",
       "      <th>age_certification</th>\n",
       "      <th>runtime</th>\n",
       "      <th>imdb_id</th>\n",
       "      <th>imdb_score</th>\n",
       "      <th>imdb_votes</th>\n",
       "    </tr>\n",
       "  </thead>\n",
       "  <tbody>\n",
       "    <tr>\n",
       "      <th>0</th>\n",
       "      <td>0</td>\n",
       "      <td>tm84618</td>\n",
       "      <td>Taxi Driver</td>\n",
       "      <td>MOVIE</td>\n",
       "      <td>A mentally unstable Vietnam War veteran works ...</td>\n",
       "      <td>1976</td>\n",
       "      <td>R</td>\n",
       "      <td>113</td>\n",
       "      <td>tt0075314</td>\n",
       "      <td>8.3</td>\n",
       "      <td>795222.0</td>\n",
       "    </tr>\n",
       "    <tr>\n",
       "      <th>1</th>\n",
       "      <td>1</td>\n",
       "      <td>tm127384</td>\n",
       "      <td>Monty Python and the Holy Grail</td>\n",
       "      <td>MOVIE</td>\n",
       "      <td>King Arthur, accompanied by his squire, recrui...</td>\n",
       "      <td>1975</td>\n",
       "      <td>PG</td>\n",
       "      <td>91</td>\n",
       "      <td>tt0071853</td>\n",
       "      <td>8.2</td>\n",
       "      <td>530877.0</td>\n",
       "    </tr>\n",
       "    <tr>\n",
       "      <th>2</th>\n",
       "      <td>2</td>\n",
       "      <td>tm70993</td>\n",
       "      <td>Life of Brian</td>\n",
       "      <td>MOVIE</td>\n",
       "      <td>Brian Cohen is an average young Jewish man, bu...</td>\n",
       "      <td>1979</td>\n",
       "      <td>R</td>\n",
       "      <td>94</td>\n",
       "      <td>tt0079470</td>\n",
       "      <td>8.0</td>\n",
       "      <td>392419.0</td>\n",
       "    </tr>\n",
       "    <tr>\n",
       "      <th>3</th>\n",
       "      <td>3</td>\n",
       "      <td>tm190788</td>\n",
       "      <td>The Exorcist</td>\n",
       "      <td>MOVIE</td>\n",
       "      <td>12-year-old Regan MacNeil begins to adapt an e...</td>\n",
       "      <td>1973</td>\n",
       "      <td>R</td>\n",
       "      <td>133</td>\n",
       "      <td>tt0070047</td>\n",
       "      <td>8.1</td>\n",
       "      <td>391942.0</td>\n",
       "    </tr>\n",
       "    <tr>\n",
       "      <th>4</th>\n",
       "      <td>4</td>\n",
       "      <td>ts22164</td>\n",
       "      <td>Monty Python's Flying Circus</td>\n",
       "      <td>SHOW</td>\n",
       "      <td>A British sketch comedy series with the shows ...</td>\n",
       "      <td>1969</td>\n",
       "      <td>TV-14</td>\n",
       "      <td>30</td>\n",
       "      <td>tt0063929</td>\n",
       "      <td>8.8</td>\n",
       "      <td>72895.0</td>\n",
       "    </tr>\n",
       "  </tbody>\n",
       "</table>\n",
       "</div>"
      ],
      "text/plain": [
       "   index        id                            title   type  \\\n",
       "0      0   tm84618                      Taxi Driver  MOVIE   \n",
       "1      1  tm127384  Monty Python and the Holy Grail  MOVIE   \n",
       "2      2   tm70993                    Life of Brian  MOVIE   \n",
       "3      3  tm190788                     The Exorcist  MOVIE   \n",
       "4      4   ts22164     Monty Python's Flying Circus   SHOW   \n",
       "\n",
       "                                         description  release_year  \\\n",
       "0  A mentally unstable Vietnam War veteran works ...          1976   \n",
       "1  King Arthur, accompanied by his squire, recrui...          1975   \n",
       "2  Brian Cohen is an average young Jewish man, bu...          1979   \n",
       "3  12-year-old Regan MacNeil begins to adapt an e...          1973   \n",
       "4  A British sketch comedy series with the shows ...          1969   \n",
       "\n",
       "  age_certification  runtime    imdb_id  imdb_score  imdb_votes  \n",
       "0                 R      113  tt0075314         8.3    795222.0  \n",
       "1                PG       91  tt0071853         8.2    530877.0  \n",
       "2                 R       94  tt0079470         8.0    392419.0  \n",
       "3                 R      133  tt0070047         8.1    391942.0  \n",
       "4             TV-14       30  tt0063929         8.8     72895.0  "
      ]
     },
     "execution_count": 1,
     "metadata": {},
     "output_type": "execute_result"
    }
   ],
   "source": [
    "import pandas as pd\n",
    "df= pd.read_csv(\"netflix.csv\")\n",
    "df.head()"
   ]
  },
  {
   "cell_type": "markdown",
   "id": "05feea17-bab4-42f4-8576-8278c8b08e1e",
   "metadata": {},
   "source": [
    "## What are the columns in this dataset?"
   ]
  },
  {
   "cell_type": "code",
   "execution_count": 2,
   "id": "d2f78b59-26e6-44f5-8186-50139f015dc8",
   "metadata": {},
   "outputs": [
    {
     "data": {
      "text/plain": [
       "['index',\n",
       " 'id',\n",
       " 'title',\n",
       " 'type',\n",
       " 'description',\n",
       " 'release_year',\n",
       " 'age_certification',\n",
       " 'runtime',\n",
       " 'imdb_id',\n",
       " 'imdb_score',\n",
       " 'imdb_votes']"
      ]
     },
     "execution_count": 2,
     "metadata": {},
     "output_type": "execute_result"
    }
   ],
   "source": [
    "df.columns.tolist()"
   ]
  },
  {
   "cell_type": "markdown",
   "id": "c8e9ec0c-652a-4934-baae-51fe3e4f91a3",
   "metadata": {},
   "source": [
    "## How many rows and columns are there?"
   ]
  },
  {
   "cell_type": "code",
   "execution_count": 3,
   "id": "b53cb4fb-1715-4e4d-b9b9-40c7ce170d9c",
   "metadata": {},
   "outputs": [
    {
     "data": {
      "text/plain": [
       "(5283, 11)"
      ]
     },
     "execution_count": 3,
     "metadata": {},
     "output_type": "execute_result"
    }
   ],
   "source": [
    "df.shape"
   ]
  },
  {
   "cell_type": "code",
   "execution_count": 4,
   "id": "84248891-caf3-4e03-8c85-db5f73f072e7",
   "metadata": {},
   "outputs": [
    {
     "data": {
      "text/plain": [
       "58113"
      ]
     },
     "execution_count": 4,
     "metadata": {},
     "output_type": "execute_result"
    }
   ],
   "source": [
    "df.size"
   ]
  },
  {
   "cell_type": "markdown",
   "id": "a3993680-fb9c-4078-a3e4-c4f12b5ac681",
   "metadata": {},
   "source": [
    "## What are the data types of each column?"
   ]
  },
  {
   "cell_type": "code",
   "execution_count": 5,
   "id": "056f7eba-0dc2-4b74-989f-482987eda535",
   "metadata": {},
   "outputs": [
    {
     "data": {
      "text/plain": [
       "index                  int64\n",
       "id                    object\n",
       "title                 object\n",
       "type                  object\n",
       "description           object\n",
       "release_year           int64\n",
       "age_certification     object\n",
       "runtime                int64\n",
       "imdb_id               object\n",
       "imdb_score           float64\n",
       "imdb_votes           float64\n",
       "dtype: object"
      ]
     },
     "execution_count": 5,
     "metadata": {},
     "output_type": "execute_result"
    }
   ],
   "source": [
    "df.dtypes"
   ]
  },
  {
   "cell_type": "markdown",
   "id": "0d6771df-9063-4083-bd23-06b25eb3efe8",
   "metadata": {},
   "source": [
    "## Is there any missing data?"
   ]
  },
  {
   "cell_type": "code",
   "execution_count": 6,
   "id": "caa81ae0-04ac-4e59-87b3-48b72fdf7e64",
   "metadata": {},
   "outputs": [
    {
     "data": {
      "text/plain": [
       "index                   0\n",
       "id                      0\n",
       "title                   0\n",
       "type                    0\n",
       "description             5\n",
       "release_year            0\n",
       "age_certification    2285\n",
       "runtime                 0\n",
       "imdb_id                 0\n",
       "imdb_score              0\n",
       "imdb_votes             16\n",
       "dtype: int64"
      ]
     },
     "execution_count": 6,
     "metadata": {},
     "output_type": "execute_result"
    }
   ],
   "source": [
    "df.isnull().sum()"
   ]
  },
  {
   "cell_type": "markdown",
   "id": "3f12291f-e540-4168-8c39-4d991148bf1f",
   "metadata": {},
   "source": [
    "## Are there any duplicate records (movies/series)?"
   ]
  },
  {
   "cell_type": "code",
   "execution_count": 7,
   "id": "ab49fe39-1e83-4f5b-9024-5a09b3bd4abf",
   "metadata": {},
   "outputs": [
    {
     "name": "stdout",
     "output_type": "stream",
     "text": [
      "0\n"
     ]
    }
   ],
   "source": [
    "print(df.duplicated().sum())"
   ]
  },
  {
   "cell_type": "markdown",
   "id": "4f4fffe7-aad1-4f60-b1ff-48ca2df92a88",
   "metadata": {},
   "source": [
    "## What are the unique types (Movie/TV Show) available?"
   ]
  },
  {
   "cell_type": "code",
   "execution_count": 8,
   "id": "d3de0166-5ade-491c-aa53-cb9a2c6ef8cd",
   "metadata": {},
   "outputs": [
    {
     "name": "stdout",
     "output_type": "stream",
     "text": [
      "['MOVIE' 'SHOW']\n"
     ]
    }
   ],
   "source": [
    "print(df['type'].unique())"
   ]
  },
  {
   "cell_type": "markdown",
   "id": "3291e123-70ac-4971-9b19-3b5b606efc2d",
   "metadata": {},
   "source": [
    "## What are the unique age certifications?"
   ]
  },
  {
   "cell_type": "code",
   "execution_count": 9,
   "id": "bb08cc71-665e-4b2a-83b8-037d031bb170",
   "metadata": {},
   "outputs": [
    {
     "name": "stdout",
     "output_type": "stream",
     "text": [
      "['R' 'PG' 'TV-14' 'G' 'PG-13' nan 'TV-MA' 'TV-PG' 'TV-Y' 'TV-G' 'TV-Y7'\n",
      " 'NC-17']\n"
     ]
    }
   ],
   "source": [
    "print(df['age_certification'].unique())"
   ]
  },
  {
   "cell_type": "markdown",
   "id": "2ecbfe71-6f6c-4531-a43c-959e96214988",
   "metadata": {},
   "source": [
    "## Which year has the most content released?"
   ]
  },
  {
   "cell_type": "code",
   "execution_count": 10,
   "id": "8a533171-7512-40d4-adf2-f7fded7f8fa7",
   "metadata": {},
   "outputs": [
    {
     "data": {
      "text/plain": [
       "release_year\n",
       "2019    749\n",
       "Name: count, dtype: int64"
      ]
     },
     "execution_count": 10,
     "metadata": {},
     "output_type": "execute_result"
    }
   ],
   "source": [
    "df['release_year'].value_counts().head(1)"
   ]
  },
  {
   "cell_type": "markdown",
   "id": "bf205119-20b2-4cb3-a97d-7cdbc0207459",
   "metadata": {},
   "source": [
    "## What is the average runtime of content?"
   ]
  },
  {
   "cell_type": "code",
   "execution_count": 11,
   "id": "35ddc91f-56c5-4250-beac-6e58bb6eefbc",
   "metadata": {},
   "outputs": [
    {
     "name": "stdout",
     "output_type": "stream",
     "text": [
      "79.19988642816581\n"
     ]
    }
   ],
   "source": [
    "print(df['runtime'].mean())"
   ]
  },
  {
   "cell_type": "markdown",
   "id": "a8d2edd4-f602-4b4d-b166-42c729106e90",
   "metadata": {},
   "source": [
    "## What is the average IMDB score?"
   ]
  },
  {
   "cell_type": "code",
   "execution_count": 12,
   "id": "bb06c688-2758-454b-b102-8a63804359e4",
   "metadata": {},
   "outputs": [
    {
     "data": {
      "text/plain": [
       "np.float64(6.5334469051675175)"
      ]
     },
     "execution_count": 12,
     "metadata": {},
     "output_type": "execute_result"
    }
   ],
   "source": [
    "df['imdb_score'].mean()"
   ]
  },
  {
   "cell_type": "markdown",
   "id": "d8058d6b-30e2-4335-985d-4c6eace27318",
   "metadata": {},
   "source": [
    "## Which content has the highest IMDB score?"
   ]
  },
  {
   "cell_type": "code",
   "execution_count": 13,
   "id": "4082e094-7df5-40fe-9912-03b6d333d8c3",
   "metadata": {},
   "outputs": [
    {
     "data": {
      "text/plain": [
       "index                                                              622\n",
       "id                                                            ts160526\n",
       "title                                                         Khawatir\n",
       "type                                                              SHOW\n",
       "description          A TV show devoted to help young people to be m...\n",
       "release_year                                                      2005\n",
       "age_certification                                                TV-14\n",
       "runtime                                                             20\n",
       "imdb_id                                                      tt3062514\n",
       "imdb_score                                                         9.6\n",
       "imdb_votes                                                      3046.0\n",
       "Name: 622, dtype: object"
      ]
     },
     "execution_count": 13,
     "metadata": {},
     "output_type": "execute_result"
    }
   ],
   "source": [
    "df.loc[df['imdb_score'].idxmax()]"
   ]
  },
  {
   "cell_type": "markdown",
   "id": "86b4f941-5821-4f58-b4d1-dad41dd32500",
   "metadata": {},
   "source": [
    "## What are the top 10 most rated (by IMDB score) movies?"
   ]
  },
  {
   "cell_type": "code",
   "execution_count": 16,
   "id": "f7aacee6-f6ac-487f-bd00-d9159c30f084",
   "metadata": {},
   "outputs": [
    {
     "data": {
      "text/html": [
       "<div>\n",
       "<style scoped>\n",
       "    .dataframe tbody tr th:only-of-type {\n",
       "        vertical-align: middle;\n",
       "    }\n",
       "\n",
       "    .dataframe tbody tr th {\n",
       "        vertical-align: top;\n",
       "    }\n",
       "\n",
       "    .dataframe thead th {\n",
       "        text-align: right;\n",
       "    }\n",
       "</style>\n",
       "<table border=\"1\" class=\"dataframe\">\n",
       "  <thead>\n",
       "    <tr style=\"text-align: right;\">\n",
       "      <th></th>\n",
       "      <th>title</th>\n",
       "      <th>imdb_score</th>\n",
       "    </tr>\n",
       "  </thead>\n",
       "  <tbody>\n",
       "    <tr>\n",
       "      <th>24</th>\n",
       "      <td>No Longer Kids</td>\n",
       "      <td>9.0</td>\n",
       "    </tr>\n",
       "    <tr>\n",
       "      <th>822</th>\n",
       "      <td>Chhota Bheem &amp; Krishna in Mayanagari</td>\n",
       "      <td>9.0</td>\n",
       "    </tr>\n",
       "    <tr>\n",
       "      <th>2685</th>\n",
       "      <td>C/o Kancharapalem</td>\n",
       "      <td>9.0</td>\n",
       "    </tr>\n",
       "    <tr>\n",
       "      <th>3172</th>\n",
       "      <td>David Attenborough: A Life on Our Planet</td>\n",
       "      <td>9.0</td>\n",
       "    </tr>\n",
       "    <tr>\n",
       "      <th>101</th>\n",
       "      <td>Forrest Gump</td>\n",
       "      <td>8.8</td>\n",
       "    </tr>\n",
       "    <tr>\n",
       "      <th>246</th>\n",
       "      <td>Inception</td>\n",
       "      <td>8.8</td>\n",
       "    </tr>\n",
       "    <tr>\n",
       "      <th>4143</th>\n",
       "      <td>Sky Tour: The Movie</td>\n",
       "      <td>8.8</td>\n",
       "    </tr>\n",
       "    <tr>\n",
       "      <th>81</th>\n",
       "      <td>Bye Bye London</td>\n",
       "      <td>8.7</td>\n",
       "    </tr>\n",
       "    <tr>\n",
       "      <th>495</th>\n",
       "      <td>A Lion in the House</td>\n",
       "      <td>8.7</td>\n",
       "    </tr>\n",
       "    <tr>\n",
       "      <th>566</th>\n",
       "      <td>Anbe Sivam</td>\n",
       "      <td>8.7</td>\n",
       "    </tr>\n",
       "  </tbody>\n",
       "</table>\n",
       "</div>"
      ],
      "text/plain": [
       "                                         title  imdb_score\n",
       "24                              No Longer Kids         9.0\n",
       "822       Chhota Bheem & Krishna in Mayanagari         9.0\n",
       "2685                         C/o Kancharapalem         9.0\n",
       "3172  David Attenborough: A Life on Our Planet         9.0\n",
       "101                               Forrest Gump         8.8\n",
       "246                                  Inception         8.8\n",
       "4143                       Sky Tour: The Movie         8.8\n",
       "81                              Bye Bye London         8.7\n",
       "495                        A Lion in the House         8.7\n",
       "566                                 Anbe Sivam         8.7"
      ]
     },
     "execution_count": 16,
     "metadata": {},
     "output_type": "execute_result"
    }
   ],
   "source": [
    "df[df['type']=='MOVIE'].nlargest(10, 'imdb_score')[['title', 'imdb_score']]"
   ]
  },
  {
   "cell_type": "markdown",
   "id": "8ce6c2c1-8d2d-440f-8c5e-7c223917d2b1",
   "metadata": {},
   "source": [
    "## How many contents are released each year (trend over time)?"
   ]
  },
  {
   "cell_type": "code",
   "execution_count": 23,
   "id": "03b906b0-8fbe-4a1b-919f-6e3ad1ed7796",
   "metadata": {},
   "outputs": [
    {
     "data": {
      "text/plain": [
       "<Axes: xlabel='release_year'>"
      ]
     },
     "execution_count": 23,
     "metadata": {},
     "output_type": "execute_result"
    },
    {
     "data": {
      "image/png": "[encoded data removed]",
      "text/plain": [
       "<Figure size 1200x500 with 1 Axes>"
      ]
     },
     "metadata": {},
     "output_type": "display_data"
    }
   ],
   "source": [
    "df['release_year'].value_counts().sort_index().plot(kind='bar', figsize=(12,5))"
   ]
  },
  {
   "cell_type": "markdown",
   "id": "e4b16787-f27b-46f7-8adf-ba0f18455bf2",
   "metadata": {},
   "source": [
    "## What’s the distribution of runtime?"
   ]
  },
  {
   "cell_type": "code",
   "execution_count": 29,
   "id": "c44a8eb1-13ee-441a-960f-ffb038a18963",
   "metadata": {},
   "outputs": [
    {
     "data": {
      "text/plain": [
       "<Axes: xlabel='runtime', ylabel='Count'>"
      ]
     },
     "execution_count": 29,
     "metadata": {},
     "output_type": "execute_result"
    },
    {
     "data": {
      "image/png": "[encoded data removed]",
      "text/plain": [
       "<Figure size 640x480 with 1 Axes>"
      ]
     },
     "metadata": {},
     "output_type": "display_data"
    }
   ],
   "source": [
    "import seaborn as sns\n",
    "sns.histplot(df['runtime'], bins=50, kde=True)"
   ]
  },
  {
   "cell_type": "markdown",
   "id": "c002d70d-be69-424e-89bb-962def51a8f1",
   "metadata": {},
   "source": [
    "## Which certification has the highest average IMDB score?"
   ]
  },
  {
   "cell_type": "code",
   "execution_count": 33,
   "id": "c39b44f8-3f84-4fa1-803b-218fa026f681",
   "metadata": {},
   "outputs": [
    {
     "data": {
      "text/plain": [
       "age_certification\n",
       "TV-14    7.262615\n",
       "Name: imdb_score, dtype: float64"
      ]
     },
     "execution_count": 33,
     "metadata": {},
     "output_type": "execute_result"
    }
   ],
   "source": [
    "df.groupby('age_certification')['imdb_score'].mean().sort_values(ascending=False).head(1)"
   ]
  },
  {
   "cell_type": "markdown",
   "id": "6d42e18c-f8af-4c27-8e86-f87edad772ae",
   "metadata": {},
   "source": [
    "## What’s the proportion of Movies vs TV Shows?"
   ]
  },
  {
   "cell_type": "code",
   "execution_count": 38,
   "id": "1c1942ee-444c-4318-bf84-ea867de1bdaa",
   "metadata": {},
   "outputs": [
    {
     "data": {
      "text/plain": [
       "type\n",
       "MOVIE    64.489873\n",
       "SHOW     35.510127\n",
       "Name: proportion, dtype: float64"
      ]
     },
     "execution_count": 38,
     "metadata": {},
     "output_type": "execute_result"
    }
   ],
   "source": [
    "df['type'].value_counts(normalize=True) * 100"
   ]
  },
  {
   "cell_type": "code",
   "execution_count": null,
   "id": "4a9a1204-18d8-4647-92dc-84e8491f8a86",
   "metadata": {},
   "outputs": [],
   "source": []
  }
 ],
 "metadata": {
  "kernelspec": {
   "display_name": "Python 3 (ipykernel)",
   "language": "python",
   "name": "python3"
  },
  "language_info": {
   "codemirror_mode": {
    "name": "ipython",
    "version": 3
   },
   "file_extension": ".py",
   "mimetype": "text/x-python",
   "name": "python",
   "nbconvert_exporter": "python",
   "pygments_lexer": "ipython3",
   "version": "3.13.5"
  }
 },
 "nbformat": 4,
 "nbformat_minor": 5
}
